{
 "cells": [
  {
   "cell_type": "markdown",
   "metadata": {},
   "source": [
    "1) Importe o numpy como “np” e imprima o número da versão."
   ]
  },
  {
   "cell_type": "code",
   "execution_count": null,
   "metadata": {},
   "outputs": [],
   "source": [
    "import numpy as np\n",
    "print(np.__version__)"
   ]
  },
  {
   "cell_type": "markdown",
   "metadata": {},
   "source": [
    "2) Crie um array 1D com números de 0 a 9."
   ]
  },
  {
   "cell_type": "code",
   "execution_count": null,
   "metadata": {},
   "outputs": [],
   "source": [
    "import numpy as np\n",
    "a = np.arange(10)\n",
    "print(a)\n"
   ]
  },
  {
   "cell_type": "markdown",
   "metadata": {},
   "source": [
    "3) Crie uma matriz booleana numpy 3×3 com ‘True’."
   ]
  },
  {
   "cell_type": "code",
   "execution_count": null,
   "metadata": {},
   "outputs": [],
   "source": [
    "import numpy as np\n",
    "a = np.full((3,3), True)\n",
    "print(a)"
   ]
  },
  {
   "cell_type": "markdown",
   "metadata": {},
   "source": [
    "4) Exiba o array da questão 2 com todos os números ímpares substituídos por -1 sem alterar o array."
   ]
  },
  {
   "cell_type": "code",
   "execution_count": null,
   "metadata": {},
   "outputs": [],
   "source": [
    "import numpy as np\n",
    "a = np.arange(10)\n",
    "a[a % 2 == 1] = -1\n",
    "print(a)"
   ]
  },
  {
   "cell_type": "markdown",
   "metadata": {},
   "source": [
    "5) Crie 3 matrizes 200 x 200, cada uma com valores aleatórios entre 0 e 255. Junte as 3 matrizes de modo\n",
    "que uma matriz resultante (200 x200 x 3) seja criada, então exiba como uma imagem utilizando o opencv."
   ]
  },
  {
   "cell_type": "code",
   "execution_count": null,
   "metadata": {},
   "outputs": [],
   "source": [
    "import cv2\n",
    "import numpy as np\n",
    "\n",
    "\n",
    "a = np.random.randint(0, 256, (200,200))\n",
    "b = np.random.randint(0, 256, (200,200))\n",
    "c = np.random.randint(0, 256, (200,200))\n",
    "\n",
    "img = np.dstack((a, b, c))\n",
    "\n",
    "cv2.imshow('',img)\n",
    "cv2.waitKey(0)\n",
    "cv2.destroyAllWindows()"
   ]
  },
  {
   "cell_type": "markdown",
   "metadata": {},
   "source": [
    "06) Crie um array bidimensional com numpy (com valores pré-definidos) com M linhas e N colunas e em \n",
    "seguida crie um array com N elementos e verifique se existe uma linha do primeiro array que corresponde \n",
    "ao segundo array criado."
   ]
  },
  {
   "cell_type": "code",
   "execution_count": 14,
   "metadata": {},
   "outputs": [
    {
     "name": "stdout",
     "output_type": "stream",
     "text": [
      "ARRAY ORIGINAL : \n",
      "[1 0 1]\n",
      "[1 0 1]\n",
      "[1 0 1]\n",
      "[1 0 0]\n",
      "[1 1 0]\n",
      "[0 1 0]\n",
      "[1 1 0]\n",
      "[0 0 0]\n",
      "[0 1 0]\n",
      "[0 1 1]\n",
      "[1 1 1]\n",
      "[1 0 0]\n",
      "[0 1 0]\n",
      "[1 0 1]\n",
      "[0 1 0]\n",
      "[0 0 0]\n",
      "[1 1 0]\n",
      "[1 0 1]\n",
      "[0 0 0]\n",
      "[0 1 0]\n",
      "[0 0 0]\n",
      "[1 0 1]\n",
      "[1 1 0]\n",
      "[0 1 0]\n",
      "[0 0 0]\n",
      "[1 1 1]\n",
      "[1 0 1]\n",
      "[1 1 1]\n",
      "[1 0 0]\n",
      "[1 1 1]\n",
      "[1 1 0]\n",
      "[0 1 0]\n",
      "[0 0 1]\n",
      "[0 0 1]\n",
      "[1 0 0]\n",
      "[1 1 1]\n",
      "[0 0 1]\n",
      "[0 1 1]\n",
      "[0 1 1]\n",
      "[0 0 0]\n",
      "[1 1 0]\n",
      "[0 1 0]\n",
      "[1 0 0]\n",
      "[0 1 1]\n",
      "[1 1 0]\n",
      "[0 0 0]\n",
      "[1 0 0]\n",
      "[1 1 0]\n",
      "[0 0 0]\n",
      "[1 1 0]\n",
      " ARRAY 2: [0 1 0]\n"
     ]
    },
    {
     "name": "stderr",
     "output_type": "stream",
     "text": [
      "C:\\Users\\davic\\AppData\\Local\\Temp\\ipykernel_105296\\2790033227.py:16: DeprecationWarning: elementwise comparison failed; this will raise an error in the future.\n",
      "  if (c == a2).any():\n"
     ]
    },
    {
     "ename": "AttributeError",
     "evalue": "'bool' object has no attribute 'any'",
     "output_type": "error",
     "traceback": [
      "\u001b[1;31m---------------------------------------------------------------------------\u001b[0m",
      "\u001b[1;31mAttributeError\u001b[0m                            Traceback (most recent call last)",
      "Cell \u001b[1;32mIn[14], line 16\u001b[0m\n\u001b[0;32m     14\u001b[0m \u001b[39mfor\u001b[39;00m l \u001b[39min\u001b[39;00m a:\n\u001b[0;32m     15\u001b[0m     c \u001b[39m=\u001b[39m np\u001b[39m.\u001b[39mintersect1d(l, a2)\n\u001b[1;32m---> 16\u001b[0m     \u001b[39mif\u001b[39;00m (c \u001b[39m==\u001b[39;49m a2)\u001b[39m.\u001b[39;49many():\n\u001b[0;32m     17\u001b[0m         existe \u001b[39m=\u001b[39m \u001b[39mTrue\u001b[39;00m\n\u001b[0;32m     19\u001b[0m \u001b[39mif\u001b[39;00m existe \u001b[39m==\u001b[39m \u001b[39mTrue\u001b[39;00m:\n",
      "\u001b[1;31mAttributeError\u001b[0m: 'bool' object has no attribute 'any'"
     ]
    }
   ],
   "source": [
    "import numpy as np\n",
    "\n",
    "a = np.random.randint(0,2, (50, 3))\n",
    "\n",
    "a2 = np.array([0,1,0])\n",
    "bingo = 0\n",
    "existe = False\n",
    "\n",
    "print(f'ARRAY ORIGINAL : ')\n",
    "for l in a:\n",
    "    print(l)\n",
    "print(f' ARRAY 2: {a2}')\n",
    "\n",
    "for l in a:\n",
    "    c = np.intersect1d(l, a2)\n",
    "    if (c == a2).any():\n",
    "        existe = True\n",
    "\n",
    "if existe == True:\n",
    "   print(f'ARRAY 2 está contido no ARRAY OFICIAL na linha {bingo}.')\n",
    "else: \n",
    "    print('ARRAY 2 NÃO está contido no ARRAY OFICIAL')"
   ]
  },
  {
   "cell_type": "markdown",
   "metadata": {},
   "source": [
    "7) Crie um array de qualquer dimensão com valores de 1 até 10 e após, altere todos os valores \n",
    "pares para o valor 45."
   ]
  },
  {
   "cell_type": "code",
   "execution_count": null,
   "metadata": {},
   "outputs": [],
   "source": [
    "import numpy as np\n",
    "import numpy.ma as ma\n",
    "\n",
    "a = np.random.randint(1,11,(5,3))\n",
    "print('Array original: ')\n",
    "for r in a:\n",
    "    print(r)\n",
    "\n",
    "a[a % 2 == 0] = 45\n",
    "print('Resultado: ')\n",
    "for r in a:\n",
    "    print(r)"
   ]
  },
  {
   "cell_type": "markdown",
   "metadata": {},
   "source": [
    "8) Crie um array randômico de tamanho 30 e encontre a média e o desvio padrão."
   ]
  },
  {
   "cell_type": "code",
   "execution_count": null,
   "metadata": {},
   "outputs": [],
   "source": [
    "import numpy as np\n",
    "\n",
    "a = np.random.randint(0,1000,30)\n",
    "media = a.mean()\n",
    "desvio_padrao = a.std()\n",
    "print(f'ARRAY:  {a} ')\n",
    "print(f'MÉDIA: {media:.2f}.')\n",
    "print(f'DESVIO PADRÃO: {desvio_padrao:.2f}')"
   ]
  },
  {
   "cell_type": "markdown",
   "metadata": {},
   "source": [
    "9) Crie um array randômico de valores inteiros e faça a ordenação desse array."
   ]
  },
  {
   "cell_type": "code",
   "execution_count": null,
   "metadata": {},
   "outputs": [],
   "source": [
    "import numpy as np\n",
    "\n",
    "a = np.random.randint(0,101,40)\n",
    "o = np.sort(a)\n",
    "print(f'ARREY ORDENADA: {o}.')"
   ]
  },
  {
   "cell_type": "markdown",
   "metadata": {},
   "source": [
    "10)Crie um array randômico de valores inteiros, em seguida encontre a moda."
   ]
  },
  {
   "cell_type": "code",
   "execution_count": null,
   "metadata": {},
   "outputs": [],
   "source": [
    "import numpy as np\n",
    "from scipy import stats as st\n",
    "\n",
    "a = np.random.randint(0,30,50)\n",
    "m = st.mode(a)\n",
    "print(f'ARRAY: {a}')\n",
    "print(f'MODA: {m[0]}, que se repetiu {m[1]} vezes.')"
   ]
  }
 ],
 "metadata": {
  "kernelspec": {
   "display_name": "Python 3",
   "language": "python",
   "name": "python3"
  },
  "language_info": {
   "codemirror_mode": {
    "name": "ipython",
    "version": 3
   },
   "file_extension": ".py",
   "mimetype": "text/x-python",
   "name": "python",
   "nbconvert_exporter": "python",
   "pygments_lexer": "ipython3",
   "version": "3.11.3"
  },
  "orig_nbformat": 4
 },
 "nbformat": 4,
 "nbformat_minor": 2
}

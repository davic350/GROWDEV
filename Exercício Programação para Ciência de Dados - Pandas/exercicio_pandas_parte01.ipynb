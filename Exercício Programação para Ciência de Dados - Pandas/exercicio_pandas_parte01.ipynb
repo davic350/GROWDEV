{
 "cells": [
  {
   "cell_type": "markdown",
   "metadata": {},
   "source": [
    "1) Qual foi o jogo mais vendido no mundo em 2010?"
   ]
  },
  {
   "cell_type": "code",
   "execution_count": null,
   "metadata": {},
   "outputs": [],
   "source": [
    "import pandas as pd\n",
    "\n",
    "data = pd.read_csv('vgsales.csv')\n",
    "\n",
    "jogos_2010 = data[['Rank', 'Name', 'Year']].query('Year == 2010')\n",
    "\n",
    "mais_vendido_2010 = jogos_2010.sort_values(by='Rank')['Name'].values[0]\n",
    "\n",
    "print(f'Jogo mais vendido de 2010:', mais_vendido_2010.upper())"
   ]
  },
  {
   "cell_type": "markdown",
   "metadata": {},
   "source": [
    "2) Qual foi o gênero mais vendido na américa do norte em 2005?"
   ]
  },
  {
   "cell_type": "code",
   "execution_count": null,
   "metadata": {},
   "outputs": [],
   "source": [
    "jogos_2005 = data[['Name', 'Year', 'NA_Sales', 'Genre']].query('Year == 2005')\n",
    "generos_mais_vendidos_america_norte_2005 = jogos_2005[['NA_Sales', 'Genre']].groupby('Genre')\n",
    "\n",
    "mais_vendido_2005 = generos_mais_vendidos_america_norte_2005.sum().sort_values(by='NA_Sales', ascending=False)\n",
    "\n",
    "genero_mais_vendido = mais_vendido_2005.index[0]\n",
    "genero_maior_faturamento = mais_vendido_2005.values[1][0]\n",
    "\n",
    "print(f'Gênero de Jogos Mais Vendido: {genero_mais_vendido.upper()} \\nTotal Faturado: {genero_maior_faturamento} milhões de dólares')"
   ]
  },
  {
   "cell_type": "markdown",
   "metadata": {},
   "source": [
    "3) Qual foi a empresa que mais vendeu de 2005 até 2016?"
   ]
  },
  {
   "cell_type": "code",
   "execution_count": null,
   "metadata": {},
   "outputs": [],
   "source": [
    "\n",
    "vendas_empresas = data[['Publisher', 'Global_Sales', 'Year']]\n",
    "vendas_2005_a_2006 = vendas_empresas.query('Year >= 2005 & Year <= 2016')\n",
    "\n",
    "empresas = vendas_2005_a_2006[['Publisher', 'Global_Sales']].groupby('Publisher')\n",
    "\n",
    "empresa_maior_venda = empresas.sum().sort_values(by='Global_Sales', ascending=False).index[0]\n",
    "maior_faturamento = empresas.sum().sort_values(by='Global_Sales', ascending=False).values[0][0]\n",
    "\n",
    "print(f'A empresa que mais faturou em vendas entre os anos de 2005 a 2016 foi a {empresa_maior_venda.upper()} \\ncom um total de {maior_faturamento} milhões de dólares.')"
   ]
  },
  {
   "cell_type": "markdown",
   "metadata": {},
   "source": [
    "4) Qual o nome do jogo que menos foi vendido em 2008 do gênero Sports."
   ]
  },
  {
   "cell_type": "code",
   "execution_count": null,
   "metadata": {},
   "outputs": [],
   "source": [
    "vendas_esportes_2008 = data[['Name', 'Genre', 'Year', 'Rank']].query('Genre == \"Sports\" and Year == 2008')\n",
    "\n",
    "menos_vendido_esportes_2008 = vendas_esportes_2008.tail(1).values[0][0]\n",
    "print(f'O jogo de espeorte menos vendido de 2008 foi {menos_vendido_esportes_2008.upper()}')"
   ]
  },
  {
   "cell_type": "markdown",
   "metadata": {},
   "source": [
    "5) Mostre um gráfico com o total de vendas por ano."
   ]
  },
  {
   "cell_type": "code",
   "execution_count": null,
   "metadata": {},
   "outputs": [],
   "source": [
    "import matplotlib.pyplot as plt\n",
    "vendas_por_ano = data[['Year', 'Global_Sales']].groupby('Year').sum()\n",
    "\n",
    "plt.plot(vendas_por_ano, scaley=2.5, linewidth=2.5)\n",
    "plt.title('Total de Vendas por Ano')\n",
    "plt.show()\n",
    "\n",
    "\n",
    "\n"
   ]
  },
  {
   "cell_type": "markdown",
   "metadata": {},
   "source": [
    "6) Qual foi o ano com mais lançamentos de jogos?"
   ]
  },
  {
   "cell_type": "code",
   "execution_count": null,
   "metadata": {},
   "outputs": [],
   "source": [
    "lancamentos_ano = data[['Year', 'Name']].groupby('Year')\n",
    "\n",
    "ano_mais_lancamentos = lancamentos_ano.count().sort_values(by='Name', ascending=False).index[0]\n",
    "quantidade_ano_mais_lancamentos = lancamentos_ano.count().sort_values(by='Name', ascending=False).values[0][0]\n",
    "\n",
    "print(f'Ano com mais lançamentos: {ano_mais_lancamentos} \\nTotal de Lançamentos: {quantidade_ano_mais_lancamentos}')"
   ]
  },
  {
   "cell_type": "markdown",
   "metadata": {},
   "source": [
    "7) Qual a plataforma que menos lançou jogos?"
   ]
  },
  {
   "cell_type": "code",
   "execution_count": null,
   "metadata": {},
   "outputs": [],
   "source": [
    "empresas_lancamentos = data[['Platform', 'Name']].groupby('Platform')\n",
    "\n",
    "empresas_menor_quantidade_lancamentos = empresas_lancamentos.count().sort_values(by='Name').head(2).index[0:2].values[0:2]\n",
    "quantidade_empresas_menor_lancamento = empresas_lancamentos.count().sort_values(by='Name').head(2).values[0][0]\n",
    "\n",
    "print(f'Empresas que menos lançaram jogos:{empresas_menor_quantidade_lancamentos} \\ncom um total de {quantidade_empresas_menor_lancamento} lançamento cada.' )"
   ]
  },
  {
   "cell_type": "markdown",
   "metadata": {},
   "source": [
    "8) Qual plataforma que mais gerou lucros com jogos do gênero Action desde\n",
    "2009?"
   ]
  },
  {
   "cell_type": "code",
   "execution_count": null,
   "metadata": {},
   "outputs": [],
   "source": [
    "vendas_plataformas_desde_2009 = data[['Platform', 'Year', 'Global_Sales', 'Genre']].query('Year >= 2009 and Genre == \"Action\"')\n",
    "\n",
    "vendas_totais_platformas_desde_2009 = vendas_plataformas_desde_2009[['Platform', 'Global_Sales']].groupby('Platform').sum().sort_values(by='Global_Sales', ascending=False)\n",
    "\n",
    "plataforma_maior_faturamento_desde_2009 = vendas_totais_platformas_desde_2009.index[0]\n",
    "maior_faturamento_desde_2009 = vendas_totais_platformas_desde_2009.values[0][0]\n",
    "\n",
    "print(f'Plataforma que mais faturou com gênero de ação desde 2009: {plataforma_maior_faturamento_desde_2009}')\n",
    "print(f'Total Faturado: {maior_faturamento_desde_2009} milhoões de dólares')\n",
    "\n",
    "\n",
    "      "
   ]
  },
  {
   "cell_type": "markdown",
   "metadata": {},
   "source": [
    "9) Qual empresa teve o maior lucro (sob o teto de 0.35 milhões) de 1980 até\n",
    "1995, excluindo-se a plataforma SNES."
   ]
  },
  {
   "cell_type": "code",
   "execution_count": null,
   "metadata": {},
   "outputs": [],
   "source": [
    "vendas_1980_a_1995 = data[['Publisher', 'Global_Sales', 'Year']].query('Year >= 1980 and Year <= 1995 and Global_Sa')\n",
    "\n",
    "Vendas_acima_teto_1980_a_"
   ]
  },
  {
   "cell_type": "markdown",
   "metadata": {},
   "source": [
    "10)A empresa que mais lucrou no Japão em 2003 é a mesma que mais lucrou\n",
    "na europa nesse mesmo ano?"
   ]
  },
  {
   "cell_type": "code",
   "execution_count": null,
   "metadata": {},
   "outputs": [],
   "source": [
    "faturamento_japao_2003 = data[['Publisher', 'JP_Sales', 'Year']].query('Year == 2003')\n",
    "faturamento_total_japao_2003 = faturamento_japao_2003[['Publisher', 'JP_Sales']].groupby('Publisher').sum().sort_values(by='JP_Sales', ascending=False)\n",
    "\n",
    "empresa_maior_faturamento_japao = faturamento_total_japao_2003.index[0]\n",
    "maior_faturamento_japao_2003 = faturamento_total_japao_2003.values[0][0]\n",
    "\n",
    "faturamento_europa_2003 = data[['Publisher', 'EU_Sales', 'Year']].query('Year == 2003')\n",
    "faturamento_total_europa_2003 = faturamento_europa_2003[['Publisher', 'EU_Sales']].groupby('Publisher').sum().sort_values(by='EU_Sales', ascending=False)\n",
    "\n",
    "empresa_maior_faturamento_europa = faturamento_total_europa_2003.index[0]\n",
    "maior_faturamento_europa_2003 = faturamento_total_europa_2003.values[0][0]\n",
    "\n",
    "if empresa_maior_faturamento_japao == empresa_maior_faturamento_europa:\n",
    "    print(f'A mesma empresa foi líder no faturamento na Europa e Japão, sendo ela {empresa_maior_faturamento_japao.upper()}.')\n",
    "else:\n",
    "    print('--'*35)\n",
    "    print(f'A empresa que mais faturou em 2003 no Japão foi a {empresa_maior_faturamento_japao.upper()} \\ncom um total de vendas de {maior_faturamento_japao_2003} milhões de dólares.')\n",
    "    print('--'*35)\n",
    "    print(f'A empresa que mais faturou em 2003 na Europa foi a {empresa_maior_faturamento_europa} \\ncom um total de vendas de {maior_faturamento_europa_2003} milhões de dólares.')\n",
    "    print('--'*35)\n"
   ]
  },
  {
   "cell_type": "markdown",
   "metadata": {},
   "source": [
    "11)Qual o percentual relacionado às vendas globais de jogos de Wii\n",
    "(excluindo-se América do norte, japão e europa) de 2006 até 2010?"
   ]
  },
  {
   "cell_type": "code",
   "execution_count": null,
   "metadata": {},
   "outputs": [],
   "source": [
    "outras_vendas_2006_a_2010 = data[['Platform', 'Other_Sales', 'Year']].query('Year >= 2006 and Year <= 2010')\n",
    "\n",
    "numero_total_outras_vendas = outras_vendas_2006_a_2010['Other_Sales'].sum()\n",
    "\n",
    "vendas_wii = outras_vendas_2006_a_2010.query('Platform == \"Wii\" ')\n",
    "\n",
    "numero_total_outras_vendas_wii = vendas_wii['Other_Sales'].sum()\n",
    "\n",
    "porcentagem_vendas_wii = (numero_total_outras_vendas_wii / numero_total_outras_vendas) * 100\n",
    "\n",
    "print(outras_vendas_2006_a_2010[['Platform', 'Other_Sales']].groupby('Platform').sum())\n",
    "\n",
    "print(f'O Nintendo Wii foi resposnável por {porcentagem_vendas_wii:.2f}% das Outras Vendas entre os anos de 2006 a 2010')\n",
    "\n"
   ]
  },
  {
   "cell_type": "markdown",
   "metadata": {},
   "source": [
    "12)Mostre um gráfico de linhas com as vendas em diferentes plataformas ao\n",
    "longo dos anos."
   ]
  },
  {
   "cell_type": "code",
   "execution_count": null,
   "metadata": {},
   "outputs": [],
   "source": []
  },
  {
   "cell_type": "markdown",
   "metadata": {},
   "source": [
    "13)Mostre um gráfico de pizza com o percentual de vendas dos diferentes\n",
    "gêneros de jogos."
   ]
  },
  {
   "cell_type": "code",
   "execution_count": null,
   "metadata": {},
   "outputs": [],
   "source": [
    "import matplotlib.pyplot as plt\n",
    "import numpy as np\n",
    "\n",
    "total_vendas_genero = data[['Genre', 'Global_Sales']].groupby('Genre').sum().sort_values(by='Global_Sales', ascending=False)\n",
    "\n",
    "rotulos = total_vendas_genero.index[:].tolist()\n",
    "porcentagens = total_vendas_genero['Global_Sales'].tolist()\n",
    "cores = plt.get_cmap('Purples')(np.linspace(0.7, 0.2, len(rotulos)))\n",
    "\n",
    "plt.pie(porcentagens, labels=rotulos, shadow=True, autopct='%1.1f%%',colors=cores)\n",
    "plt.show()\n",
    "\n",
    "\n",
    "\n"
   ]
  }
 ],
 "metadata": {
  "kernelspec": {
   "display_name": "Python 3",
   "language": "python",
   "name": "python3"
  },
  "language_info": {
   "codemirror_mode": {
    "name": "ipython",
    "version": 3
   },
   "file_extension": ".py",
   "mimetype": "text/x-python",
   "name": "python",
   "nbconvert_exporter": "python",
   "pygments_lexer": "ipython3",
   "version": "3.11.3"
  },
  "orig_nbformat": 4
 },
 "nbformat": 4,
 "nbformat_minor": 2
}

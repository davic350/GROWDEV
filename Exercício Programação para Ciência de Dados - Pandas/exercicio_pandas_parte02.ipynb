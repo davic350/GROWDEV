{
 "cells": [
  {
   "cell_type": "markdown",
   "metadata": {},
   "source": [
    "1) Qual a quantidade de pessoas nas seguintes faixas etárias"
   ]
  },
  {
   "cell_type": "markdown",
   "metadata": {},
   "source": [
    "a) 20 anos ou menos\n",
    "b) 21 a 35 anos\n",
    "c) 36 a 50 anos\n",
    "d) 51 a 65 anos\n",
    "e) maiores de 65 anos"
   ]
  },
  {
   "cell_type": "code",
   "execution_count": 151,
   "metadata": {},
   "outputs": [
    {
     "name": "stdout",
     "output_type": "stream",
     "text": [
      "A faixa etária de ATÉ 20 ANOS representa 764 pessoas registradas.\n",
      "A faixa etária de 21 A 35 ANOS representa 20654 pessoas registradas.\n",
      "A faixa etária de 36 A 50 ANOS representa 31770 pessoas registradas.\n",
      "A faixa etária de 51 A 65 ANOS representa 20006 pessoas registradas.\n",
      "A faixa etária de MAIOR DE 65 ANOS representa 3646 pessoas registradas.\n"
     ]
    }
   ],
   "source": [
    "import pandas as pd\n",
    "\n",
    "pessoas = pd.read_csv('dados.csv')\n",
    "pessoas['grupo_idade'] = pd.cut(x= pessoas['Idade'], bins= [0,20,35,50,65,200], labels= ['Até 20 anos', '21 a 35 anos', '36 a 50 anos', '51 a 65 anos', 'maior de 65 anos'])\n",
    "pessoas_grupo = pessoas.groupby('grupo_idade').count()\n",
    "pessoas_grupo\n",
    "for i in range(0,5):\n",
    "    n = 0\n",
    "    print(f'A faixa etária de {pessoas_grupo.index[i].upper()} representa {pessoas_grupo.values[i][n]} pessoas registradas.')\n",
    "    n += 1\n",
    "\n",
    "\n"
   ]
  },
  {
   "cell_type": "markdown",
   "metadata": {},
   "source": [
    "2) Qual é a média de escolaridade em cada faixa etária?"
   ]
  },
  {
   "cell_type": "code",
   "execution_count": 152,
   "metadata": {},
   "outputs": [
    {
     "name": "stdout",
     "output_type": "stream",
     "text": [
      "A faixa etária de ATÉ 20 ANOS tem em média 9.70 anos de estudos\n",
      "A faixa etária de 21 A 35 ANOS tem em média 10.81 anos de estudos\n",
      "A faixa etária de 36 A 50 ANOS tem em média 9.76 anos de estudos\n",
      "A faixa etária de 51 A 65 ANOS tem em média 8.27 anos de estudos\n",
      "A faixa etária de MAIOR DE 65 ANOS tem em média 5.84 anos de estudos\n"
     ]
    }
   ],
   "source": [
    "pessoas_media_escolaridade = pessoas[['Anos de Estudo', 'grupo_idade']].groupby('grupo_idade').mean()\n",
    "\n",
    "for i in range(0,5):\n",
    "    n = 0\n",
    "    print(f'A faixa etária de {pessoas_media_escolaridade.index[i].upper()} tem em média {pessoas_media_escolaridade.values[i][n]:.2f} anos de estudos')\n",
    "    n += 1"
   ]
  },
  {
   "cell_type": "markdown",
   "metadata": {},
   "source": [
    "3) Qual a UF que concentra a maior renda?"
   ]
  },
  {
   "cell_type": "code",
   "execution_count": 153,
   "metadata": {},
   "outputs": [
    {
     "name": "stdout",
     "output_type": "stream",
     "text": [
      "O UF de código 35 possuia a maior renda num total de R$22539969.00\n"
     ]
    }
   ],
   "source": [
    "renda_por_UF = pessoas[['UF', 'Renda']].groupby('UF').sum()\n",
    "\n",
    "maior_renda_por_UF = renda_por_UF.sort_values(by='Renda', ascending=False).index[0]\n",
    "valor_maior_renda_por_UF = renda_por_UF.sort_values(by='Renda', ascending=False).values[0][0]\n",
    "\n",
    "#print(renda_por_UF.sort_values(by='Renda', ascending=False))\n",
    "\n",
    "print(f'O UF de código {maior_renda_por_UF} possuia a maior renda num total de R${valor_maior_renda_por_UF:.2f}')"
   ]
  },
  {
   "cell_type": "markdown",
   "metadata": {},
   "source": [
    "4) Qual a renda média de pessoas pretas e brancas de homens e mulheres?"
   ]
  },
  {
   "cell_type": "code",
   "execution_count": 154,
   "metadata": {},
   "outputs": [
    {
     "data": {
      "text/html": [
       "<div>\n",
       "<style scoped>\n",
       "    .dataframe tbody tr th:only-of-type {\n",
       "        vertical-align: middle;\n",
       "    }\n",
       "\n",
       "    .dataframe tbody tr th {\n",
       "        vertical-align: top;\n",
       "    }\n",
       "\n",
       "    .dataframe thead th {\n",
       "        text-align: right;\n",
       "    }\n",
       "</style>\n",
       "<table border=\"1\" class=\"dataframe\">\n",
       "  <thead>\n",
       "    <tr style=\"text-align: right;\">\n",
       "      <th></th>\n",
       "      <th></th>\n",
       "      <th>Renda</th>\n",
       "    </tr>\n",
       "    <tr>\n",
       "      <th>Cor</th>\n",
       "      <th>Sexo</th>\n",
       "      <th></th>\n",
       "    </tr>\n",
       "  </thead>\n",
       "  <tbody>\n",
       "    <tr>\n",
       "      <th rowspan=\"2\" valign=\"top\">2</th>\n",
       "      <th>0</th>\n",
       "      <td>2925.744435</td>\n",
       "    </tr>\n",
       "    <tr>\n",
       "      <th>1</th>\n",
       "      <td>2109.866750</td>\n",
       "    </tr>\n",
       "    <tr>\n",
       "      <th rowspan=\"2\" valign=\"top\">4</th>\n",
       "      <th>0</th>\n",
       "      <td>1603.861687</td>\n",
       "    </tr>\n",
       "    <tr>\n",
       "      <th>1</th>\n",
       "      <td>1134.596400</td>\n",
       "    </tr>\n",
       "  </tbody>\n",
       "</table>\n",
       "</div>"
      ],
      "text/plain": [
       "                Renda\n",
       "Cor Sexo             \n",
       "2   0     2925.744435\n",
       "    1     2109.866750\n",
       "4   0     1603.861687\n",
       "    1     1134.596400"
      ]
     },
     "execution_count": 154,
     "metadata": {},
     "output_type": "execute_result"
    }
   ],
   "source": [
    "renda_por_pessoas_pretas_e_brancas = pessoas[['Cor', 'Renda', 'Sexo']].query('Cor == 2 |Cor == 4' )\n",
    "renda_por_pessoas_pretas_e_brancas.groupby(['Cor', 'Sexo']).mean()"
   ]
  },
  {
   "cell_type": "markdown",
   "metadata": {},
   "source": [
    "5) Qual a renda média concentrada em cada faixa etária?"
   ]
  },
  {
   "cell_type": "code",
   "execution_count": 155,
   "metadata": {},
   "outputs": [
    {
     "name": "stdout",
     "output_type": "stream",
     "text": [
      "A renda concentrada na faixa etária de Até 20 anos é em média de R$985.35\n",
      "A renda concentrada na faixa etária de 21 a 35 anos é em média de R$1748.29\n",
      "A renda concentrada na faixa etária de 36 a 50 anos é em média de R$2113.76\n",
      "A renda concentrada na faixa etária de 51 a 65 anos é em média de R$2150.20\n",
      "A renda concentrada na faixa etária de maior de 65 anos é em média de R$1831.23\n"
     ]
    }
   ],
   "source": [
    "renda_media_por_faixa_etaria = pessoas[['Renda', 'grupo_idade']].groupby('grupo_idade').mean()\n",
    "\n",
    "for i in range(0,5):\n",
    "    n = 0\n",
    "    print(f'A renda concentrada na faixa etária de {renda_media_por_faixa_etaria.index[i]} é em média de R${renda_media_por_faixa_etaria.values[i][n]:.2f}')\n",
    "    n += 1"
   ]
  },
  {
   "cell_type": "markdown",
   "metadata": {},
   "source": [
    "6) Qual a renda média nas faixas de anos de estudo abaixo?"
   ]
  },
  {
   "cell_type": "markdown",
   "metadata": {},
   "source": [
    "a) 2 anos ou menos\n",
    "b) 3 a 6 anos\n",
    "c) 7 a 10 anos\n",
    "d) 10 a 12 anos\n",
    "e) 13 anos ou mais"
   ]
  },
  {
   "cell_type": "code",
   "execution_count": 156,
   "metadata": {},
   "outputs": [
    {
     "name": "stdout",
     "output_type": "stream",
     "text": [
      "As pessoas com escolaridade de ATÉ 2 ANOS de estudo têm em média uma renda de R$747.10.\n",
      "As pessoas com escolaridade de 3 A 6 ANOS de estudo têm em média uma renda de R$1089.38.\n",
      "As pessoas com escolaridade de 7 A 10 ANOS de estudo têm em média uma renda de R$1370.89.\n",
      "As pessoas com escolaridade de 10 A 12 ANOS de estudo têm em média uma renda de R$1837.62.\n",
      "As pessoas com escolaridade de MAIS DE 13 ANOS de estudo têm em média uma renda de R$4737.37.\n"
     ]
    }
   ],
   "source": [
    "pessoas['grupo_escolaridade'] = pd.cut(x= pessoas['Anos de Estudo'], bins=[0,2,6,10,13,100], labels=['até 2 anos', '3 a 6 anos', '7 a 10 anos', '10 a 12 anos', 'mais de 13 anos'])\n",
    "media_renda_por_escolaridade = pessoas[['Renda', 'grupo_escolaridade']].groupby('grupo_escolaridade').mean()\n",
    "#print(media_renda_por_escolaridade)\n",
    "for i in range(0,5):\n",
    "    n = 0\n",
    "    print(f'As pessoas com escolaridade de {media_renda_por_escolaridade.index[i].upper()} de estudo têm em média uma renda de R${media_renda_por_escolaridade.values[i][n]:.2f}.')\n",
    "    n += 1"
   ]
  },
  {
   "cell_type": "markdown",
   "metadata": {},
   "source": [
    "7) Qual a maior escolaridade entre indígenas, para homens e mulheres?"
   ]
  },
  {
   "cell_type": "code",
   "execution_count": 157,
   "metadata": {},
   "outputs": [
    {
     "name": "stdout",
     "output_type": "stream",
     "text": [
      "A maior escolaridade para um homem indígenas é de 17 anos de estudo\n",
      "A maior escolaridade para uma mulher indígenas é de 17 anos de estudo\n"
     ]
    }
   ],
   "source": [
    "maior_escolaridade_indigenas = pessoas[['Cor', 'Anos de Estudo', 'Sexo']].query('Cor == 0')\n",
    "maior_escolaridade_indigenas_homem = maior_escolaridade_indigenas[['Anos de Estudo', 'Sexo']].query('Sexo == 0').sort_values(by='Anos de Estudo', ascending=False)\n",
    "maior_escolaridade_indigenas_mulher = maior_escolaridade_indigenas[['Anos de Estudo', 'Sexo']].query('Sexo == 1').sort_values(by='Anos de Estudo', ascending=False)\n",
    "\n",
    "print(f'A maior escolaridade para um homem indígenas é de {maior_escolaridade_indigenas_homem.values[0][0]} anos de estudo')\n",
    "print(f'A maior escolaridade para uma mulher indígenas é de {maior_escolaridade_indigenas_mulher.values[0][0]} anos de estudo')"
   ]
  },
  {
   "cell_type": "markdown",
   "metadata": {},
   "source": [
    "8) Qual a média de anos de estudo entre brancos e negros?"
   ]
  },
  {
   "cell_type": "code",
   "execution_count": 158,
   "metadata": {},
   "outputs": [
    {
     "name": "stdout",
     "output_type": "stream",
     "text": [
      "     Anos de Estudo\n",
      "Cor                \n",
      "2         10.490303\n",
      "4          8.861518\n"
     ]
    }
   ],
   "source": [
    "media_escolaridade_por_raca = pessoas[['Cor', 'Anos de Estudo']].query('Cor == 2 | Cor == 4').groupby('Cor').mean()\n",
    "print(media_escolaridade_por_raca)"
   ]
  },
  {
   "cell_type": "markdown",
   "metadata": {},
   "source": [
    "9) Qual a média de anos de estudo e de renda para mulheres brancas, e para\n",
    "mulheres negras?"
   ]
  },
  {
   "cell_type": "code",
   "execution_count": 159,
   "metadata": {},
   "outputs": [
    {
     "name": "stdout",
     "output_type": "stream",
     "text": [
      "     Sexo       Renda  Anos de Estudo\n",
      "Cor                                  \n",
      "2     1.0  2109.86675       11.297578\n",
      "4     1.0  1134.59640        9.522326\n"
     ]
    }
   ],
   "source": [
    "renda_e_escolaridade_mulheres = pessoas[['Cor', 'Sexo', 'Renda', 'Anos de Estudo']].query('Sexo == 1')\n",
    "media_renda_e_escolaridade_mulheres_pretas_e_brancas = renda_e_escolaridade_mulheres.query('Cor == 2 | Cor == 4').groupby('Cor').mean()\n",
    "print(media_renda_e_escolaridade_mulheres_pretas_e_brancas)"
   ]
  },
  {
   "cell_type": "markdown",
   "metadata": {},
   "source": [
    "10) Qual é a UF com maior média de escolaridade e qual a UF com maior média\n",
    "de renda?"
   ]
  },
  {
   "cell_type": "code",
   "execution_count": 160,
   "metadata": {},
   "outputs": [
    {
     "name": "stdout",
     "output_type": "stream",
     "text": [
      "O UF de código 53 tem a maior nível de escolaridade média com um total de 11.91 anos de estudo.\n",
      "O UF de código 53 tem a maior renda média com um total de R$4241.95.\n"
     ]
    }
   ],
   "source": [
    "lista_renda_media_por_uf = pessoas[['UF', 'Renda']].groupby('UF').mean().sort_values(by='Renda',ascending=False)\n",
    "\n",
    "lista_escolaridade_media_por_uf = pessoas[['UF', 'Anos de Estudo']].groupby('UF').mean().sort_values(by='Anos de Estudo', ascending=False)\n",
    "\n",
    "\n",
    "print(f'O UF de código {lista_escolaridade_media_por_uf.index[0]} tem a maior nível de escolaridade média com um total de {lista_escolaridade_media_por_uf.values[0][0]:.2f} anos de estudo.')\n",
    "print(f'O UF de código {lista_renda_media_por_uf.index[0]} tem a maior renda média com um total de R${lista_renda_media_por_uf.values[0][0]:.2f}.')"
   ]
  },
  {
   "cell_type": "markdown",
   "metadata": {},
   "source": [
    "11)Elabore você uma pergunta sobre a base de dados e escreva o código para\n",
    "responder a pergunta."
   ]
  },
  {
   "cell_type": "markdown",
   "metadata": {},
   "source": [
    "Pergunta: Qual é a altura média do homem sergipano?"
   ]
  },
  {
   "cell_type": "code",
   "execution_count": 161,
   "metadata": {},
   "outputs": [
    {
     "name": "stdout",
     "output_type": "stream",
     "text": [
      "A Altura média do homem sergipano é de 1.70 metros.\n"
     ]
    }
   ],
   "source": [
    "altura_media_homens_sergipe = pessoas[['UF', 'Altura', 'Sexo']].query('UF == 28 & Sexo == 0').groupby('UF').mean()\n",
    "\n",
    "print(f'A Altura média do homem sergipano é de {altura_media_homens_sergipe.values[0][0]:.2f} metros.')"
   ]
  }
 ],
 "metadata": {
  "kernelspec": {
   "display_name": "Python 3",
   "language": "python",
   "name": "python3"
  },
  "language_info": {
   "codemirror_mode": {
    "name": "ipython",
    "version": 3
   },
   "file_extension": ".py",
   "mimetype": "text/x-python",
   "name": "python",
   "nbconvert_exporter": "python",
   "pygments_lexer": "ipython3",
   "version": "3.11.3"
  },
  "orig_nbformat": 4
 },
 "nbformat": 4,
 "nbformat_minor": 2
}

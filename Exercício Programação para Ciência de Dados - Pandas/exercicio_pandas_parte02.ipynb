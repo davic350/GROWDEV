{
 "cells": [
  {
   "cell_type": "markdown",
   "metadata": {},
   "source": [
    "1) Qual a quantidade de pessoas nas seguintes faixas etárias"
   ]
  },
  {
   "cell_type": "markdown",
   "metadata": {},
   "source": [
    "a) 20 anos ou menos\n",
    "b) 21 a 35 anos\n",
    "c) 36 a 50 anos\n",
    "d) 51 a 65 anos\n",
    "e) maiores de 65 anos"
   ]
  },
  {
   "cell_type": "code",
   "execution_count": null,
   "metadata": {},
   "outputs": [],
   "source": [
    "import pandas as pd\n",
    "\n",
    "pessoas = pd.read_csv('dados.csv')\n",
    "pessoas['grupo_idade'] = pd.cut(x= pessoas['Idade'], bins= [0,20,35,50,65,200], labels= ['Até 20 anos', '21 a 35 anos', '36 a 50 anos', '51 a 65 anos', 'maior de 65 anos'])\n",
    "pessoas_grupo = pessoas.groupby('grupo_idade').count()\n",
    "pessoas_grupo\n",
    "for i in range(0,5):\n",
    "    n = 0\n",
    "    print(f'A faixa etária de {pessoas_grupo.index[i].upper()} representa {pessoas_grupo.values[i][n]} pessoas registradas.')\n",
    "    n += 1\n",
    "\n",
    "\n"
   ]
  },
  {
   "cell_type": "markdown",
   "metadata": {},
   "source": [
    "2) Qual é a média de escolaridade em cada faixa etária?"
   ]
  },
  {
   "cell_type": "code",
   "execution_count": null,
   "metadata": {},
   "outputs": [],
   "source": [
    "pessoas_media_escolaridade = pessoas[['Anos de Estudo', 'grupo_idade']].groupby('grupo_idade').mean()\n",
    "\n",
    "for i in range(0,5):\n",
    "    n = 0\n",
    "    print(f'A faixa etária de {pessoas_media_escolaridade.index[i].upper()} tem em média {pessoas_media_escolaridade.values[i][n]:.2f} anos de estudos')\n",
    "    n += 1"
   ]
  },
  {
   "cell_type": "markdown",
   "metadata": {},
   "source": [
    "3) Qual a UF que concentra a maior renda?"
   ]
  },
  {
   "cell_type": "code",
   "execution_count": null,
   "metadata": {},
   "outputs": [],
   "source": [
    "renda_por_UF = pessoas[['UF', 'Renda']].groupby('UF').sum()\n",
    "\n",
    "maior_renda_por_UF = renda_por_UF.sort_values(by='Renda', ascending=False).index[0]\n",
    "valor_maior_renda_por_UF = renda_por_UF.sort_values(by='Renda', ascending=False).values[0][0]\n",
    "\n",
    "#print(renda_por_UF.sort_values(by='Renda', ascending=False))\n",
    "\n",
    "print(f'O UF de código {maior_renda_por_UF} possuia a maior renda num total de R${valor_maior_renda_por_UF:.2f}')"
   ]
  },
  {
   "cell_type": "markdown",
   "metadata": {},
   "source": [
    "4) Qual a renda média de pessoas pretas e brancas de homens e mulheres?"
   ]
  },
  {
   "cell_type": "code",
   "execution_count": null,
   "metadata": {},
   "outputs": [],
   "source": [
    "renda_por_pessoas_pretas_e_brancas = pessoas[['Cor', 'Renda', 'Sexo']].query('Cor == 2 |Cor == 4' )\n",
    "renda_por_pessoas_pretas_e_brancas.groupby(['Cor', 'Sexo']).mean()"
   ]
  },
  {
   "cell_type": "markdown",
   "metadata": {},
   "source": [
    "5) Qual a renda média concentrada em cada faixa etária?"
   ]
  },
  {
   "cell_type": "code",
   "execution_count": null,
   "metadata": {},
   "outputs": [],
   "source": [
    "renda_media_por_faixa_etaria = pessoas[['Renda', 'grupo_idade']].groupby('grupo_idade').mean()\n",
    "\n",
    "for i in range(0,5):\n",
    "    n = 0\n",
    "    print(f'A renda concentrada na faixa etária de {renda_media_por_faixa_etaria.index[i]} é em média de R${renda_media_por_faixa_etaria.values[i][n]:.2f}')\n",
    "    n += 1"
   ]
  },
  {
   "cell_type": "markdown",
   "metadata": {},
   "source": [
    "6) Qual a renda média nas faixas de anos de estudo abaixo?"
   ]
  },
  {
   "cell_type": "markdown",
   "metadata": {},
   "source": [
    "a) 2 anos ou menos\n",
    "b) 3 a 6 anos\n",
    "c) 7 a 10 anos\n",
    "d) 10 a 12 anos\n",
    "e) 13 anos ou mais"
   ]
  },
  {
   "cell_type": "code",
   "execution_count": null,
   "metadata": {},
   "outputs": [],
   "source": [
    "pessoas['grupo_escolaridade'] = pd.cut(x= pessoas['Anos de Estudo'], bins=[0,2,6,10,13,100], labels=['até 2 anos', '3 a 6 anos', '7 a 10 anos', '10 a 12 anos', 'mais de 13 anos'])\n",
    "media_renda_por_escolaridade = pessoas[['Renda', 'grupo_escolaridade']].groupby('grupo_escolaridade').mean()\n",
    "#print(media_renda_por_escolaridade)\n",
    "for i in range(0,5):\n",
    "    n = 0\n",
    "    print(f'As pessoas com escolaridade de {media_renda_por_escolaridade.index[i].upper()} de estudo têm em média uma renda de R${media_renda_por_escolaridade.values[i][n]:.2f}.')\n",
    "    n += 1"
   ]
  },
  {
   "cell_type": "markdown",
   "metadata": {},
   "source": [
    "7) Qual a maior escolaridade entre indígenas, para homens e mulheres?"
   ]
  },
  {
   "cell_type": "code",
   "execution_count": null,
   "metadata": {},
   "outputs": [],
   "source": [
    "maior_escolaridade_indigenas = pessoas[['Cor', 'Anos de Estudo', 'Sexo']].query('Cor == 0')\n",
    "maior_escolaridade_indigenas_homem = maior_escolaridade_indigenas[['Anos de Estudo', 'Sexo']].query('Sexo == 0').sort_values(by='Anos de Estudo', ascending=False)\n",
    "maior_escolaridade_indigenas_mulher = maior_escolaridade_indigenas[['Anos de Estudo', 'Sexo']].query('Sexo == 1').sort_values(by='Anos de Estudo', ascending=False)\n",
    "\n",
    "print(f'A maior escolaridade para um homem indígenas é de {maior_escolaridade_indigenas_homem.values[0][0]} anos de estudo')\n",
    "print(f'A maior escolaridade para uma mulher indígenas é de {maior_escolaridade_indigenas_mulher.values[0][0]} anos de estudo')"
   ]
  },
  {
   "cell_type": "markdown",
   "metadata": {},
   "source": [
    "8) Qual a média de anos de estudo entre brancos e negros?"
   ]
  },
  {
   "cell_type": "code",
   "execution_count": null,
   "metadata": {},
   "outputs": [],
   "source": [
    "media_escolaridade_por_raca = pessoas[['Cor', 'Anos de Estudo']].query('Cor == 2 | Cor == 4').groupby('Cor').mean()\n",
    "print(media_escolaridade_por_raca)"
   ]
  },
  {
   "cell_type": "markdown",
   "metadata": {},
   "source": [
    "9) Qual a média de anos de estudo e de renda para mulheres brancas, e para\n",
    "mulheres negras?"
   ]
  },
  {
   "cell_type": "code",
   "execution_count": null,
   "metadata": {},
   "outputs": [],
   "source": [
    "renda_e_escolaridade_mulheres = pessoas[['Cor', 'Sexo', 'Renda', 'Anos de Estudo']].query('Sexo == 1')\n",
    "media_renda_e_escolaridade_mulheres_pretas_e_brancas = renda_e_escolaridade_mulheres.query('Cor == 2 | Cor == 4').groupby('Cor').mean()\n",
    "print(media_renda_e_escolaridade_mulheres_pretas_e_brancas)"
   ]
  },
  {
   "cell_type": "markdown",
   "metadata": {},
   "source": [
    "10) Qual é a UF com maior média de escolaridade e qual a UF com maior média\n",
    "de renda?"
   ]
  },
  {
   "cell_type": "code",
   "execution_count": 142,
   "metadata": {},
   "outputs": [
    {
     "name": "stdout",
     "output_type": "stream",
     "text": [
      "O UF de código 53 tem a maior nível de escolaridade média com um total de 11.91 anos de estudo.\n",
      "O UF de código 53 tem a maior renda média com um total de R$4241.95.\n"
     ]
    }
   ],
   "source": [
    "lista_renda_media_por_uf = pessoas[['UF', 'Renda']].groupby('UF').mean().sort_values(by='Renda',ascending=False)\n",
    "\n",
    "lista_escolaridade_media_por_uf = pessoas[['UF', 'Anos de Estudo']].groupby('UF').mean().sort_values(by='Anos de Estudo', ascending=False)\n",
    "\n",
    "\n",
    "print(f'O UF de código {lista_escolaridade_media_por_uf.index[0]} tem a maior nível de escolaridade média com um total de {lista_escolaridade_media_por_uf.values[0][0]:.2f} anos de estudo.')\n",
    "print(f'O UF de código {lista_renda_media_por_uf.index[0]} tem a maior renda média com um total de R${lista_renda_media_por_uf.values[0][0]:.2f}.')"
   ]
  },
  {
   "cell_type": "markdown",
   "metadata": {},
   "source": [
    "11)Elabore você uma pergunta sobre a base de dados e escreva o código para\n",
    "responder a pergunta."
   ]
  },
  {
   "cell_type": "markdown",
   "metadata": {},
   "source": [
    "Pergunta: Qual é a altura média do homem sergipano?"
   ]
  },
  {
   "cell_type": "code",
   "execution_count": 150,
   "metadata": {},
   "outputs": [
    {
     "name": "stdout",
     "output_type": "stream",
     "text": [
      "A Altura média do homem sergipano é de 1.70 metros.\n"
     ]
    }
   ],
   "source": [
    "altura_media_homens_sergipe = pessoas[['UF', 'Altura', 'Sexo']].query('UF == 28 & Sexo == 0').groupby('UF').mean()\n",
    "\n",
    "print(f'A Altura média do homem sergipano é de {altura_media_homens_sergipe.values[0][0]:.2f} metros.')"
   ]
  }
 ],
 "metadata": {
  "kernelspec": {
   "display_name": "Python 3",
   "language": "python",
   "name": "python3"
  },
  "language_info": {
   "codemirror_mode": {
    "name": "ipython",
    "version": 3
   },
   "file_extension": ".py",
   "mimetype": "text/x-python",
   "name": "python",
   "nbconvert_exporter": "python",
   "pygments_lexer": "ipython3",
   "version": "3.11.3"
  },
  "orig_nbformat": 4
 },
 "nbformat": 4,
 "nbformat_minor": 2
}
